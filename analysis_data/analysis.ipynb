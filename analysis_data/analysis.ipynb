{
 "cells": [
  {
   "cell_type": "code",
   "execution_count": 4,
   "metadata": {},
   "outputs": [
    {
     "name": "stdout",
     "output_type": "stream",
     "text": [
      "/data/usCitiesDemographics_data/usCitiesDemo.csv\n",
      "/data/news_data/metadata.csv\n",
      "/data/immigration_data/immigration_oct16_sub.sas7bdat\n",
      "/data/immigration_data/immigration_jun16_sub.sas7bdat\n",
      "/data/immigration_data/immigration_apr16_sub.sas7bdat\n",
      "/data/immigration_data/immigration_aug16_sub.sas7bdat\n",
      "/data/immigration_data/immigration_may16_sub.sas7bdat\n",
      "/data/immigration_data/immigration_feb16_sub.sas7bdat\n",
      "/data/immigration_data/immigration_jan16_sub.sas7bdat\n",
      "/data/immigration_data/immigration_mar16_sub.sas7bdat\n",
      "/data/immigration_data/immigration_jul16_sub.sas7bdat\n",
      "/data/immigration_data/immigration_nov16_sub.sas7bdat\n",
      "/data/immigration_data/immigration_sep16_sub.sas7bdat\n",
      "/data/immigration_data/immigration_labels_descriptions.SAS\n",
      "/data/immigration_data/immigration_dec16_sub.sas7bdat\n"
     ]
    }
   ],
   "source": [
    "import os\n",
    "import re\n",
    "\n",
    "filepath = '/Users/oneforall_nick/workspace/Udacity_capstone_project/airflow/data'\n",
    "# for root, dirs, files in os.walk(filepath):\n",
    "#     for file in files:\n",
    "#         print(os.path.join(root, file))\n",
    "\n",
    "# local data absolute path which is uploaded to S3\n",
    "filepath_all = [os.path.join(root, file) for root, dirs, files in os.walk(filepath) for file in files]\n",
    "\n",
    "\n",
    "files = [file_ for root, dirs, files in os.walk(filepath) for file_ in files]\n",
    "\n",
    "# s3 key where is saved upload of destination of aws s3 location\n",
    "s3_key_filename = [re.search(r'/data/*.*', each_filepath)[0] for each_filepath in filepath_all]\n",
    "\n",
    "each_file = [re.search(r'(^.+\\.)', files[i])[0] + str(i) for i in range(len(files)) ]\n",
    "\n",
    "files_path = list(zip(each_file, s3_key_filename, filepath_all))\n",
    "for i in files_path:\n",
    "    print(i[1])\n",
    "\n",
    "\n"
   ]
  },
  {
   "cell_type": "code",
   "execution_count": 1,
   "metadata": {},
   "outputs": [
    {
     "ename": "NameError",
     "evalue": "name 're' is not defined",
     "output_type": "error",
     "traceback": [
      "\u001b[0;31m---------------------------------------------------------------------------\u001b[0m",
      "\u001b[0;31mNameError\u001b[0m                                 Traceback (most recent call last)",
      "\u001b[1;32m/Users/oneforall_nick/workspace/Udacity_capstone_project/analysis_data/analysis.ipynb Cell 2'\u001b[0m in \u001b[0;36m<cell line: 1>\u001b[0;34m()\u001b[0m\n\u001b[0;32m----> <a href='vscode-notebook-cell:/Users/oneforall_nick/workspace/Udacity_capstone_project/analysis_data/analysis.ipynb#ch0000001?line=0'>1</a>\u001b[0m r \u001b[39m=\u001b[39m re\u001b[39m.\u001b[39mcompile(\u001b[39mr\u001b[39m\u001b[39m\"\u001b[39m\u001b[39m[^a-zA-Z0-9-]\u001b[39m\u001b[39m\"\u001b[39m)\n\u001b[1;32m      <a href='vscode-notebook-cell:/Users/oneforall_nick/workspace/Udacity_capstone_project/analysis_data/analysis.ipynb#ch0000001?line=1'>2</a>\u001b[0m s \u001b[39m=\u001b[39m \u001b[39m\"\u001b[39m\u001b[39msome#\u001b[39m\u001b[39m%\u001b[39m\u001b[39mte_xt&with--##\u001b[39m\u001b[39m%\u001b[39m\u001b[39m--5 hy-phens  *#\u001b[39m\u001b[39m\"\u001b[39m\n\u001b[1;32m      <a href='vscode-notebook-cell:/Users/oneforall_nick/workspace/Udacity_capstone_project/analysis_data/analysis.ipynb#ch0000001?line=2'>3</a>\u001b[0m r\u001b[39m.\u001b[39msub(\u001b[39m\"\u001b[39m\u001b[39m\"\u001b[39m, s)\n",
      "\u001b[0;31mNameError\u001b[0m: name 're' is not defined"
     ]
    }
   ],
   "source": [
    "r = re.compile(r\"[^a-zA-Z0-9-]\")\n",
    "s = \"some#%te_xt&with--##%--5 hy-phens  *#\"\n",
    "r.sub(\"\", s)"
   ]
  },
  {
   "cell_type": "code",
   "execution_count": 4,
   "metadata": {},
   "outputs": [],
   "source": [
    "from airflow.providers.amazon.aws.transfers.local_to_s3 import LocalFilesystemToS3Operator\n"
   ]
  },
  {
   "cell_type": "code",
   "execution_count": null,
   "metadata": {},
   "outputs": [],
   "source": []
  }
 ],
 "metadata": {
  "interpreter": {
   "hash": "48f95af79faaae749105c8389524df19196568350894b01545e0b6f755f2644b"
  },
  "kernelspec": {
   "display_name": "Python 3.9.12 ('udacity_capstone_project')",
   "language": "python",
   "name": "python3"
  },
  "language_info": {
   "codemirror_mode": {
    "name": "ipython",
    "version": 3
   },
   "file_extension": ".py",
   "mimetype": "text/x-python",
   "name": "python",
   "nbconvert_exporter": "python",
   "pygments_lexer": "ipython3",
   "version": "3.9.12"
  },
  "orig_nbformat": 4
 },
 "nbformat": 4,
 "nbformat_minor": 2
}
