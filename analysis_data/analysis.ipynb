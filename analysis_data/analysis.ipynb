{
 "cells": [
  {
   "cell_type": "code",
   "execution_count": 145,
   "metadata": {},
   "outputs": [
    {
     "name": "stdout",
     "output_type": "stream",
     "text": [
      "('usCitiesDemo.0', '/data/usCitiesDemographics_data/usCitiesDemo.csv', '/Users/oneforall_nick/workspace/Udacity_capstone_project/airflow/data/usCitiesDemographics_data/usCitiesDemo.csv')\n",
      "('metadata.1', '/data/news_data/metadata.csv', '/Users/oneforall_nick/workspace/Udacity_capstone_project/airflow/data/news_data/metadata.csv')\n",
      "('immigration_oct16_sub.2', '/data/immigration_data/immigration_oct16_sub.sas7bdat', '/Users/oneforall_nick/workspace/Udacity_capstone_project/airflow/data/immigration_data/immigration_oct16_sub.sas7bdat')\n",
      "('immigration_jun16_sub.3', '/data/immigration_data/immigration_jun16_sub.sas7bdat', '/Users/oneforall_nick/workspace/Udacity_capstone_project/airflow/data/immigration_data/immigration_jun16_sub.sas7bdat')\n",
      "('immigration_apr16_sub.4', '/data/immigration_data/immigration_apr16_sub.sas7bdat', '/Users/oneforall_nick/workspace/Udacity_capstone_project/airflow/data/immigration_data/immigration_apr16_sub.sas7bdat')\n",
      "('immigration_aug16_sub.5', '/data/immigration_data/immigration_aug16_sub.sas7bdat', '/Users/oneforall_nick/workspace/Udacity_capstone_project/airflow/data/immigration_data/immigration_aug16_sub.sas7bdat')\n",
      "('immigration_may16_sub.6', '/data/immigration_data/immigration_may16_sub.sas7bdat', '/Users/oneforall_nick/workspace/Udacity_capstone_project/airflow/data/immigration_data/immigration_may16_sub.sas7bdat')\n",
      "('immigration_feb16_sub.7', '/data/immigration_data/immigration_feb16_sub.sas7bdat', '/Users/oneforall_nick/workspace/Udacity_capstone_project/airflow/data/immigration_data/immigration_feb16_sub.sas7bdat')\n",
      "('immigration_jan16_sub.8', '/data/immigration_data/immigration_jan16_sub.sas7bdat', '/Users/oneforall_nick/workspace/Udacity_capstone_project/airflow/data/immigration_data/immigration_jan16_sub.sas7bdat')\n",
      "('immigration_mar16_sub.9', '/data/immigration_data/immigration_mar16_sub.sas7bdat', '/Users/oneforall_nick/workspace/Udacity_capstone_project/airflow/data/immigration_data/immigration_mar16_sub.sas7bdat')\n",
      "('immigration_jul16_sub.10', '/data/immigration_data/immigration_jul16_sub.sas7bdat', '/Users/oneforall_nick/workspace/Udacity_capstone_project/airflow/data/immigration_data/immigration_jul16_sub.sas7bdat')\n",
      "('immigration_nov16_sub.11', '/data/immigration_data/immigration_nov16_sub.sas7bdat', '/Users/oneforall_nick/workspace/Udacity_capstone_project/airflow/data/immigration_data/immigration_nov16_sub.sas7bdat')\n",
      "('immigration_sep16_sub.12', '/data/immigration_data/immigration_sep16_sub.sas7bdat', '/Users/oneforall_nick/workspace/Udacity_capstone_project/airflow/data/immigration_data/immigration_sep16_sub.sas7bdat')\n",
      "('immigration_labels_descriptions.13', '/data/immigration_data/immigration_labels_descriptions.SAS', '/Users/oneforall_nick/workspace/Udacity_capstone_project/airflow/data/immigration_data/immigration_labels_descriptions.SAS')\n",
      "('immigration_dec16_sub.14', '/data/immigration_data/immigration_dec16_sub.sas7bdat', '/Users/oneforall_nick/workspace/Udacity_capstone_project/airflow/data/immigration_data/immigration_dec16_sub.sas7bdat')\n"
     ]
    }
   ],
   "source": [
    "import os\n",
    "import re\n",
    "\n",
    "filepath = '/Users/oneforall_nick/workspace/Udacity_capstone_project/airflow/data'\n",
    "# for root, dirs, files in os.walk(filepath):\n",
    "#     for file in files:\n",
    "#         print(os.path.join(root, file))\n",
    "\n",
    "# local data absolute path which is uploaded to S3\n",
    "filepath_all = [os.path.join(root, file) for root, dirs, files in os.walk(filepath) for file in files]\n",
    "\n",
    "\n",
    "files = [file_ for root, dirs, files in os.walk(filepath) for file_ in files]\n",
    "\n",
    "# s3 key where is saved upload of destination of aws s3 location\n",
    "s3_key_filename = [re.search(r'/data/*.*', each_filepath)[0] for each_filepath in filepath_all]\n",
    "\n",
    "each_file = [re.search(r'(^.+\\.)', files[i])[0] + str(i) for i in range(len(files)) ]\n",
    "\n",
    "files_path = list(zip(each_file, s3_key_filename, filepath_all))\n",
    "for i in files_path:\n",
    "    print(i)\n",
    "\n",
    "\n"
   ]
  },
  {
   "cell_type": "code",
   "execution_count": 84,
   "metadata": {},
   "outputs": [
    {
     "data": {
      "text/plain": [
       "'sometextwith----5hy-phens'"
      ]
     },
     "execution_count": 84,
     "metadata": {},
     "output_type": "execute_result"
    }
   ],
   "source": [
    "r = re.compile(r\"[^a-zA-Z0-9-]\")\n",
    "s = \"some#%te_xt&with--##%--5 hy-phens  *#\"\n",
    "r.sub(\"\", s)"
   ]
  },
  {
   "cell_type": "code",
   "execution_count": null,
   "metadata": {},
   "outputs": [],
   "source": []
  }
 ],
 "metadata": {
  "interpreter": {
   "hash": "48f95af79faaae749105c8389524df19196568350894b01545e0b6f755f2644b"
  },
  "kernelspec": {
   "display_name": "Python 3.9.12 ('udacity_capstone_project')",
   "language": "python",
   "name": "python3"
  },
  "language_info": {
   "codemirror_mode": {
    "name": "ipython",
    "version": 3
   },
   "file_extension": ".py",
   "mimetype": "text/x-python",
   "name": "python",
   "nbconvert_exporter": "python",
   "pygments_lexer": "ipython3",
   "version": "3.9.12"
  },
  "orig_nbformat": 4
 },
 "nbformat": 4,
 "nbformat_minor": 2
}
