{
 "cells": [
  {
   "cell_type": "markdown",
   "metadata": {},
   "source": [
    "# Data Quality Checks\n",
    "- Check data is empty or not"
   ]
  },
  {
   "cell_type": "code",
   "execution_count": null,
   "metadata": {},
   "outputs": [],
   "source": [
    "import configparser\n",
    "from s3path import S3Path\n",
    "\n",
    "\n",
    "# ***** Access AWS Cloud configure ************\n",
    "config = configparser.ConfigParser()\n",
    "config.read_file(\n",
    "    open('/Users/oneforall_nick/workspace/Udacity_capstone_project/cfg/dl.cfg'))\n",
    "\n",
    "aws_access_key = config[\"ACCESS\"][\"AWS_ACCESS_KEY_ID\"]\n",
    "aws_secret_access_key = config[\"ACCESS\"][\"AWS_SECRET_ACCESS_KEY\"]\n",
    "aws_token = config[\"ACCESS\"][\"AWS_TOKEN\"]\n",
    "dest_aws_s3_bucket = config[\"S3\"][\"DEST_S3_BUCKET\"]\n"
   ]
  },
  {
   "cell_type": "code",
   "execution_count": null,
   "metadata": {},
   "outputs": [],
   "source": [
    "dim_bucket_path = S3Path(f\"{dest_aws_s3_bucket}/dimension_table\")\n",
    "fact_bucket_path = S3Path(f\"{dest_aws_s3_bucket}/fact_table\")"
   ]
  },
  {
   "cell_type": "code",
   "execution_count": null,
   "metadata": {},
   "outputs": [],
   "source": [
    "# ******** Dimension Tables ********\n",
    "# Data Object Name: df_immigration_personal\n",
    "if data_list := [str(path_1).split('/')[-1] for path in dim_bucket_path.iterdir() if path.is_dir() for path_1 in path.iterdir() if str(path_1).split('/')[-2] in 'df_immigration_personal']:\n",
    "    print(\n",
    "        f\"Data: df_immigration_personal, Count data objects: {len(data_list)}\")\n",
    "else:\n",
    "    raise ValueError(\"This table does not contain data!!\")\n",
    "\n",
    "# Data Object Name: imm_address\n",
    "if data_list := [str(path_1).split('/')[-1] for path in dim_bucket_path.iterdir() if path.is_dir() for path_1 in path.iterdir() if str(path_1).split('/')[-2] in 'imm_address']:\n",
    "    print(f\"Data: imm_address, Count data objects: {len(data_list)}\")\n",
    "else:\n",
    "    raise ValueError(\"This table does not contain data!!\")\n",
    "\n",
    "\n",
    "# Data Object Name: imm_city_res_label\n",
    "if data_list := [str(path_1).split('/')[-1] for path in dim_bucket_path.iterdir() if path.is_dir() for path_1 in path.iterdir() if str(path_1).split('/')[-2] in 'imm_city_res_label']:\n",
    "    print(f\"Data: imm_city_res_label, Count data objects: {len(data_list)}\")\n",
    "else:\n",
    "    raise ValueError(\"This table does not contain data!!\")\n",
    "\n",
    "\n",
    "# Data Object Name: imm_destination_city\n",
    "if data_list := [str(path_1).split('/')[-1] for path in dim_bucket_path.iterdir() if path.is_dir() for path_1 in path.iterdir() if str(path_1).split('/')[-2] in 'imm_destination_city']:\n",
    "    print(f\"Data: imm_destination_city, Count data objects: {len(data_list)}\")\n",
    "else:\n",
    "    raise ValueError(\"This table does not contain data!!\")\n",
    "\n",
    "\n",
    "# Data Object Name: imm_travel_code\n",
    "if data_list := [str(path_1).split('/')[-1] for path in dim_bucket_path.iterdir() if path.is_dir() for path_1 in path.iterdir() if str(path_1).split('/')[-2] in 'imm_travel_code']:\n",
    "    print(f\"Data: imm_travel_code, Count data objects: {len(data_list)}\")\n",
    "else:\n",
    "    raise ValueError(\"This table does not contain data!!\")\n",
    "\n",
    "\n",
    "# Data Object Name: imm_visa\n",
    "if data_list := [str(path_1).split('/')[-1] for path in dim_bucket_path.iterdir() if path.is_dir() for path_1 in path.iterdir() if str(path_1).split('/')[-2] in 'imm_visa']:\n",
    "    print(f\"Data: imm_visa, Count data objects: {len(data_list)}\")\n",
    "else:\n",
    "    raise ValueError(\"This table does not contain data!!\")\n",
    "\n",
    "\n",
    "# Data Object Name: immigration_main_information\n",
    "if data_list := [str(path_1) for path in dim_bucket_path.iterdir() if path.is_dir() for path_1 in path.iterdir() if path_1.is_dir() if str(path_1).split('/')[-2] in 'immigration_main_information']:\n",
    "    print(\n",
    "        f\"Data: immigration_main_information, Count data objects: {len(data_list)}\")\n",
    "else:\n",
    "    raise ValueError(\"This table does not contain data!!\")\n",
    "\n",
    "\n",
    "# Data Object Name: news_article_data\n",
    "if data_list := [str(path_1).split('/')[-1] for path in dim_bucket_path.iterdir() if path.is_dir() for path_1 in path.iterdir() if str(path_1).split('/')[-2] in 'news_article_data']:\n",
    "    print(\n",
    "        f\"Data: news_article_data, Count data objects: {len(data_list)}\")\n",
    "else:\n",
    "    raise ValueError(\"This table does not contain data!!\")\n",
    "\n",
    "\n",
    "# Data Object Name: us_cities_demographics_data\n",
    "if data_list := [str(path_1).split('/')[-1] for path in dim_bucket_path.iterdir() if path.is_dir() for path_1 in path.iterdir() if str(path_1).split('/')[-2] in 'us_cities_demographics_data']:\n",
    "    print(\n",
    "        f\"Data: us_cities_demographics_data, Count data objects: {len(data_list)}\")\n",
    "else:\n",
    "    raise ValueError(\"This table does not contain data!!\")\n"
   ]
  },
  {
   "cell_type": "code",
   "execution_count": null,
   "metadata": {},
   "outputs": [],
   "source": [
    "# ******** Fact Tables ********\n",
    "# Data Object Name: df_immigration_personal\n",
    "if data_list := [str(path_1).split('/')[-1] for path in fact_bucket_path.iterdir() if path.is_dir() for path_1 in path.iterdir() if path_1.is_dir() if str(path_1).split('/')[-2] in 'notification']:\n",
    "    print(f\"Data: notification, Count data objects: {len(data_list)}\")\n",
    "else:\n",
    "    raise ValueError(\"This table does not contain data!!\")\n"
   ]
  }
 ],
 "metadata": {
  "language_info": {
   "name": "python"
  },
  "orig_nbformat": 4
 },
 "nbformat": 4,
 "nbformat_minor": 2
}
