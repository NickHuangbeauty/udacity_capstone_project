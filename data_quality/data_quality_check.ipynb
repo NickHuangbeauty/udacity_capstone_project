{
 "cells": [
  {
   "cell_type": "code",
   "execution_count": 6,
   "id": "6e0a24a0-85be-4e81-90c7-a581d71758ff",
   "metadata": {
    "execution": {
     "iopub.execute_input": "2022-06-27T12:47:14.111453Z",
     "iopub.status.busy": "2022-06-27T12:47:14.111224Z",
     "iopub.status.idle": "2022-06-27T12:47:14.389639Z",
     "shell.execute_reply": "2022-06-27T12:47:14.388795Z",
     "shell.execute_reply.started": "2022-06-27T12:47:14.111429Z"
    },
    "tags": []
   },
   "outputs": [
    {
     "data": {
      "application/vnd.jupyter.widget-view+json": {
       "model_id": "f07edb0a7a7d4b499cb8f15dfb7bc873",
       "version_major": 2,
       "version_minor": 0
      },
      "text/plain": [
       "VBox()"
      ]
     },
     "metadata": {},
     "output_type": "display_data"
    },
    {
     "data": {
      "application/vnd.jupyter.widget-view+json": {
       "model_id": "",
       "version_major": 2,
       "version_minor": 0
      },
      "text/plain": [
       "FloatProgress(value=0.0, bar_style='info', description='Progress:', layout=Layout(height='25px', width='50%'),…"
      ]
     },
     "metadata": {},
     "output_type": "display_data"
    }
   ],
   "source": [
    "import configparser\n",
    "from datetime import datetime, timedelta\n",
    "import os\n",
    "from signal import signal, SIGPIPE, SIG_DFL\n",
    "from pyspark.sql import SparkSession\n",
    "from pyspark.sql.functions import udf, col, from_unixtime, monotonically_increasing_id, to_date\n",
    "from pyspark.sql.types import *\n",
    "from pyspark.sql.functions import year, month, dayofmonth, hour, weekofyear, date_format\n",
    "from pyspark.sql.functions import count\n",
    "from s3path import S3Path"
   ]
  },
  {
   "cell_type": "code",
   "execution_count": 2,
   "id": "9818ba64-9c7b-46cf-ade3-063c3b2c92f0",
   "metadata": {
    "execution": {
     "iopub.execute_input": "2022-06-27T12:46:19.751452Z",
     "iopub.status.busy": "2022-06-27T12:46:19.751223Z",
     "iopub.status.idle": "2022-06-27T12:46:19.819522Z",
     "shell.execute_reply": "2022-06-27T12:46:19.818773Z",
     "shell.execute_reply.started": "2022-06-27T12:46:19.751427Z"
    },
    "tags": []
   },
   "outputs": [
    {
     "data": {
      "application/vnd.jupyter.widget-view+json": {
       "model_id": "8e9a81444f9b42768d58d08f0810c773",
       "version_major": 2,
       "version_minor": 0
      },
      "text/plain": [
       "VBox()"
      ]
     },
     "metadata": {},
     "output_type": "display_data"
    },
    {
     "data": {
      "application/vnd.jupyter.widget-view+json": {
       "model_id": "",
       "version_major": 2,
       "version_minor": 0
      },
      "text/plain": [
       "FloatProgress(value=0.0, bar_style='info', description='Progress:', layout=Layout(height='25px', width='50%'),…"
      ]
     },
     "metadata": {},
     "output_type": "display_data"
    }
   ],
   "source": [
    "def create_spark_session():\n",
    "    \"\"\"\n",
    "    Purpose:\n",
    "        Build an access spark session for dealing data ETL of Data Lake\n",
    "    :return: spark session\n",
    "    \"\"\"\n",
    "    spark = SparkSession \\\n",
    "        .builder \\\n",
    "        .config(\"spark.jars.packages\", \"org.apache.hadoop:hadoop-aws:2.7.0\") \\\n",
    "        .getOrCreate()\n",
    "    # .config(\"spark.hadoop.fs.s3a.impl\", \"org.apache.hadoop.fs.s3a.S3AFileSystem\") \\\n",
    "    # .config(\"spark.hadoop.fs.s3a.awsAccessKeyId\", os.environ['AWS_ACCESS_KEY_ID']) \\\n",
    "    # .config(\"spark.hadoop.fs.s3a.awsSecretAccessKey\", os.environ['AWS_SECRET_ACCESS_KEY'])\n",
    "\n",
    "    return spark"
   ]
  },
  {
   "cell_type": "code",
   "execution_count": 3,
   "id": "d22c0243-c820-4b2d-b53b-d06761c53850",
   "metadata": {
    "execution": {
     "iopub.execute_input": "2022-06-27T12:46:21.047634Z",
     "iopub.status.busy": "2022-06-27T12:46:21.047409Z",
     "iopub.status.idle": "2022-06-27T12:46:21.840067Z",
     "shell.execute_reply": "2022-06-27T12:46:21.839305Z",
     "shell.execute_reply.started": "2022-06-27T12:46:21.047610Z"
    },
    "tags": [],
    "vscode": {
     "languageId": "python"
    }
   },
   "outputs": [
    {
     "data": {
      "application/vnd.jupyter.widget-view+json": {
       "model_id": "2bd589d1126e4f7e95c5bf8d51feab76",
       "version_major": 2,
       "version_minor": 0
      },
      "text/plain": [
       "VBox()"
      ]
     },
     "metadata": {},
     "output_type": "display_data"
    },
    {
     "data": {
      "application/vnd.jupyter.widget-view+json": {
       "model_id": "",
       "version_major": 2,
       "version_minor": 0
      },
      "text/plain": [
       "FloatProgress(value=0.0, bar_style='info', description='Progress:', layout=Layout(height='25px', width='50%'),…"
      ]
     },
     "metadata": {},
     "output_type": "display_data"
    }
   ],
   "source": [
    "spark = create_spark_session()"
   ]
  },
  {
   "cell_type": "code",
   "execution_count": 4,
   "id": "261843a0-eaab-4f26-ad8a-7bcd1ed80cde",
   "metadata": {
    "execution": {
     "iopub.execute_input": "2022-06-27T12:46:23.529581Z",
     "iopub.status.busy": "2022-06-27T12:46:23.529359Z",
     "iopub.status.idle": "2022-06-27T12:46:23.603453Z",
     "shell.execute_reply": "2022-06-27T12:46:23.602750Z",
     "shell.execute_reply.started": "2022-06-27T12:46:23.529558Z"
    },
    "tags": [],
    "vscode": {
     "languageId": "python"
    }
   },
   "outputs": [
    {
     "data": {
      "application/vnd.jupyter.widget-view+json": {
       "model_id": "994c7fdab92c4e1cb5a534f3ff7122b3",
       "version_major": 2,
       "version_minor": 0
      },
      "text/plain": [
       "VBox()"
      ]
     },
     "metadata": {},
     "output_type": "display_data"
    },
    {
     "data": {
      "application/vnd.jupyter.widget-view+json": {
       "model_id": "",
       "version_major": 2,
       "version_minor": 0
      },
      "text/plain": [
       "FloatProgress(value=0.0, bar_style='info', description='Progress:', layout=Layout(height='25px', width='50%'),…"
      ]
     },
     "metadata": {},
     "output_type": "display_data"
    },
    {
     "name": "stdout",
     "output_type": "stream",
     "text": [
      "<pyspark.sql.session.SparkSession object at 0x7f2fdb88e810>"
     ]
    }
   ],
   "source": [
    "spark"
   ]
  },
  {
   "cell_type": "code",
   "execution_count": 7,
   "id": "0234b5f5-d7c1-4fdd-ba36-9f2d62ee2b35",
   "metadata": {
    "execution": {
     "iopub.execute_input": "2022-06-27T12:47:48.226307Z",
     "iopub.status.busy": "2022-06-27T12:47:48.226030Z",
     "iopub.status.idle": "2022-06-27T12:47:49.006021Z",
     "shell.execute_reply": "2022-06-27T12:47:49.005265Z",
     "shell.execute_reply.started": "2022-06-27T12:47:48.226279Z"
    },
    "vscode": {
     "languageId": "python"
    }
   },
   "outputs": [
    {
     "data": {
      "application/vnd.jupyter.widget-view+json": {
       "model_id": "248cea9a9ef54c679c57b5b2f167038c",
       "version_major": 2,
       "version_minor": 0
      },
      "text/plain": [
       "VBox()"
      ]
     },
     "metadata": {},
     "output_type": "display_data"
    },
    {
     "data": {
      "application/vnd.jupyter.widget-view+json": {
       "model_id": "",
       "version_major": 2,
       "version_minor": 0
      },
      "text/plain": [
       "FloatProgress(value=0.0, bar_style='info', description='Progress:', layout=Layout(height='25px', width='50%'),…"
      ]
     },
     "metadata": {},
     "output_type": "display_data"
    },
    {
     "name": "stdout",
     "output_type": "stream",
     "text": [
      "aws-cfn-bootstrap (2.0)\n",
      "beautifulsoup4 (4.9.3)\n",
      "boto (2.49.0)\n",
      "boto3 (1.24.17)\n",
      "botocore (1.27.17)\n",
      "click (8.1.1)\n",
      "docutils (0.14)\n",
      "jmespath (1.0.0)\n",
      "joblib (1.1.0)\n",
      "lockfile (0.11.0)\n",
      "lxml (4.8.0)\n",
      "mysqlclient (1.4.2)\n",
      "nltk (3.7)\n",
      "nose (1.3.4)\n",
      "numpy (1.20.0)\n",
      "pip (9.0.1)\n",
      "py-dateutil (2.2)\n",
      "pystache (0.5.4)\n",
      "python-daemon (2.2.3)\n",
      "python-dateutil (2.8.2)\n",
      "python37-sagemaker-pyspark (1.4.1)\n",
      "pytz (2022.1)\n",
      "PyYAML (5.4.1)\n",
      "regex (2021.11.10)\n",
      "s3path (0.3.4)\n",
      "s3transfer (0.6.0)\n",
      "setuptools (28.8.0)\n",
      "simplejson (3.2.0)\n",
      "six (1.13.0)\n",
      "smart-open (6.0.0)\n",
      "tqdm (4.63.1)\n",
      "urllib3 (1.26.9)\n",
      "wheel (0.29.0)\n",
      "windmill (1.6)\n",
      "\n",
      "DEPRECATION: The default format will switch to columns in the future. You can use --format=(legacy|columns) (or define a format=(legacy|columns) in your pip.conf under the [list] section) to disable this warning.\n",
      "You are using pip version 9.0.1, however version 22.1.2 is available.\n",
      "You should consider upgrading via the 'pip install --upgrade pip' command."
     ]
    }
   ],
   "source": [
    "sc.list_packages()"
   ]
  },
  {
   "cell_type": "markdown",
   "id": "f0b2494b-755e-45f8-be46-a8e9a93399be",
   "metadata": {},
   "source": [
    "# Check data quality:\n",
    "1. Ckeck each dimension table if there are duplicate IDs.\n",
    "2. There are no empty data\n",
    "3. Source/ count checks to ensure completeness (It's totally matched with ETL processed data.)"
   ]
  },
  {
   "cell_type": "code",
   "execution_count": 23,
   "id": "caf7bd39-5010-469e-9dff-9490d9a7df75",
   "metadata": {
    "execution": {
     "iopub.execute_input": "2022-06-27T13:07:18.411157Z",
     "iopub.status.busy": "2022-06-27T13:07:18.410924Z",
     "iopub.status.idle": "2022-06-27T13:07:18.470909Z",
     "shell.execute_reply": "2022-06-27T13:07:18.470275Z",
     "shell.execute_reply.started": "2022-06-27T13:07:18.411132Z"
    },
    "tags": []
   },
   "outputs": [
    {
     "data": {
      "application/vnd.jupyter.widget-view+json": {
       "model_id": "cc57a4b3936042cba9d8d0aade183b93",
       "version_major": 2,
       "version_minor": 0
      },
      "text/plain": [
       "VBox()"
      ]
     },
     "metadata": {},
     "output_type": "display_data"
    },
    {
     "data": {
      "application/vnd.jupyter.widget-view+json": {
       "model_id": "",
       "version_major": 2,
       "version_minor": 0
      },
      "text/plain": [
       "FloatProgress(value=0.0, bar_style='info', description='Progress:', layout=Layout(height='25px', width='50%'),…"
      ]
     },
     "metadata": {},
     "output_type": "display_data"
    }
   ],
   "source": [
    "# Expection duplicated IDs Count\n",
    "EXPECTION_DUPLICATED_IDS_COUNT = 0\n",
    "\n",
    "# Source Data Count After filter processed\n",
    "df_news_source_count = 45805\n",
    "df_immigration_personal_source_count = 3096313\n",
    "df_immigration_main_information_source_count = 3096313\n",
    "df_us_cities_demographics_source_count = 2891\n",
    "\n",
    "df_imm_destination_city_source_count = 582\n",
    "df_imm_city_res_label_source_count = 5\n",
    "df_imm_travel_code_source_count = 4\n",
    "df_imm_address_source_count = 55\n",
    "df_imm_visa_source_count = 3\n",
    "\n",
    "# Dest AWS S3 Bucket\n",
    "dest_aws_s3_bucket = 'destetlbucket'\n",
    "\n",
    "dim_bucket_path = S3Path(f\"/{dest_aws_s3_bucket}/dimension_table\")"
   ]
  },
  {
   "cell_type": "code",
   "execution_count": 11,
   "id": "a3b0228c-99ad-498f-a0e8-03370ce5d66e",
   "metadata": {
    "execution": {
     "iopub.execute_input": "2022-06-27T12:49:48.225302Z",
     "iopub.status.busy": "2022-06-27T12:49:48.225083Z",
     "iopub.status.idle": "2022-06-27T12:49:48.307437Z",
     "shell.execute_reply": "2022-06-27T12:49:48.306590Z",
     "shell.execute_reply.started": "2022-06-27T12:49:48.225278Z"
    },
    "tags": []
   },
   "outputs": [
    {
     "data": {
      "application/vnd.jupyter.widget-view+json": {
       "model_id": "5de714cd35a4424a902d3a13fa8316e8",
       "version_major": 2,
       "version_minor": 0
      },
      "text/plain": [
       "VBox()"
      ]
     },
     "metadata": {},
     "output_type": "display_data"
    },
    {
     "data": {
      "application/vnd.jupyter.widget-view+json": {
       "model_id": "",
       "version_major": 2,
       "version_minor": 0
      },
      "text/plain": [
       "FloatProgress(value=0.0, bar_style='info', description='Progress:', layout=Layout(height='25px', width='50%'),…"
      ]
     },
     "metadata": {},
     "output_type": "display_data"
    }
   ],
   "source": [
    "# Each table's table name, unique ID key name, EXPECTION_DUPLICATED_IDS_COUNT and source data count\n",
    "dict_dimension_table_IDs = {\n",
    "    'df_immigration_personal': [\n",
    "        'imm_per_cic_id',\n",
    "        EXPECTION_DUPLICATED_IDS_COUNT,\n",
    "        df_immigration_personal_source_count\n",
    "    ],\n",
    "    'immigration_main_information': [\n",
    "        'imm_main_cic_id',\n",
    "        EXPECTION_DUPLICATED_IDS_COUNT,\n",
    "        df_immigration_main_information_source_count\n",
    "    ],\n",
    "    'news_article_data': [\n",
    "        'news_cord_uid',\n",
    "        EXPECTION_DUPLICATED_IDS_COUNT,\n",
    "        df_news_source_count\n",
    "    ],\n",
    "    'us_cities_demographics_data': [\n",
    "        'cidemo_id',\n",
    "        EXPECTION_DUPLICATED_IDS_COUNT,\n",
    "        df_us_cities_demographics_source_count\n",
    "    ],\n",
    "    # ***** imm_cit_res *****\n",
    "    'imm_city_res_label': [\n",
    "        'col_of_imm_cntyl',\n",
    "        EXPECTION_DUPLICATED_IDS_COUNT,\n",
    "        df_imm_city_res_label_source_count\n",
    "    ],\n",
    "    # ***** imm_port *****\n",
    "    'imm_destination_city': [\n",
    "        'code_of_imm_destination_city',\n",
    "        EXPECTION_DUPLICATED_IDS_COUNT,\n",
    "        df_imm_destination_city_source_count\n",
    "    ],\n",
    "    # ***** imm_mod *****\n",
    "    'imm_travel_code': [\n",
    "        'code_of_imm_travel_code',\n",
    "        EXPECTION_DUPLICATED_IDS_COUNT,\n",
    "        df_imm_travel_code_source_count\n",
    "    ],\n",
    "    # ***** imm_addr *****\n",
    "    'imm_address': [\n",
    "        'code_of_imm_address',\n",
    "        EXPECTION_DUPLICATED_IDS_COUNT,\n",
    "        df_imm_address_source_count\n",
    "    ],\n",
    "    # ***** imm_visa *****\n",
    "    'imm_visa': [\n",
    "        'code_of_imm_visa',\n",
    "        EXPECTION_DUPLICATED_IDS_COUNT,\n",
    "        df_imm_visa_source_count\n",
    "    ]\n",
    "}"
   ]
  },
  {
   "cell_type": "code",
   "execution_count": 12,
   "id": "2952b9e0-143f-46ab-9b5c-1ef7f0dc0619",
   "metadata": {
    "execution": {
     "iopub.execute_input": "2022-06-27T12:51:17.919901Z",
     "iopub.status.busy": "2022-06-27T12:51:17.919671Z",
     "iopub.status.idle": "2022-06-27T12:51:17.995204Z",
     "shell.execute_reply": "2022-06-27T12:51:17.994577Z",
     "shell.execute_reply.started": "2022-06-27T12:51:17.919877Z"
    }
   },
   "outputs": [
    {
     "data": {
      "application/vnd.jupyter.widget-view+json": {
       "model_id": "d4ad0313109146f5a55c0aedba2de198",
       "version_major": 2,
       "version_minor": 0
      },
      "text/plain": [
       "VBox()"
      ]
     },
     "metadata": {},
     "output_type": "display_data"
    },
    {
     "data": {
      "application/vnd.jupyter.widget-view+json": {
       "model_id": "",
       "version_major": 2,
       "version_minor": 0
      },
      "text/plain": [
       "FloatProgress(value=0.0, bar_style='info', description='Progress:', layout=Layout(height='25px', width='50%'),…"
      ]
     },
     "metadata": {},
     "output_type": "display_data"
    }
   ],
   "source": [
    "# ***** Make sure my data, after ETL processed, has be done with no duplicated IDs.\n",
    "def data_quality_check_duplicated_IDs(dim_bucket_path: dim_bucket_path, dict_dimension_table_IDs: dict_dimension_table_IDs):\n",
    "    \"\"\"\n",
    "    Purpose:\n",
    "        Make sure my data, after ETL processed, has be done with no duplicated IDs.\n",
    "\n",
    "    Args:\n",
    "        dim_bucket_path (s3path object): Get AWS S3 dimension table of destination bucket path\n",
    "\n",
    "    Raises:\n",
    "        Exception: If dimension table's has duplicated IDs, it was raised expected for checking alert messages.\n",
    "    \"\"\"\n",
    "    for path in dim_bucket_path.iterdir():\n",
    "        if path.is_dir():\n",
    "            path = str(path)\n",
    "            # For loop this dict_dimension_table_IDs dictionary data to check my duplicated IDs, etc.\n",
    "            for dim_table, key_duplicated_source_etl in dict_dimension_table_IDs.items():\n",
    "                dimension_table_name = path.split('/')[-1]\n",
    "                if dimension_table_name in dim_table:\n",
    "                    df = spark.read.parquet(f\"s3:/{path}\")\n",
    "\n",
    "                    # For checking each dimension table's IDs is duplicated or not.\n",
    "                    check_dataframe_duplicated_IDs_count = df.groupBy(key_duplicated_source_etl[0]).agg(\n",
    "                        count(key_duplicated_source_etl[0]).alias('check_duplicated_IDs')).filter(col('check_duplicated_IDs') > 1).count()\n",
    "\n",
    "                    if check_dataframe_duplicated_IDs_count != key_duplicated_source_etl[1]:\n",
    "                        raise Exception(f\"Check table {dim_table} has duplicated IDs, not expected {key_duplicated_source_etl[1]}!!\")\n",
    "                    else:\n",
    "                        print(f\"The table {dim_table} is expectations of value {key_duplicated_source_etl[1]}.\")"
   ]
  },
  {
   "cell_type": "code",
   "execution_count": 13,
   "id": "e7cb11b2-6aac-4674-a2a8-55d4f47f274f",
   "metadata": {
    "execution": {
     "iopub.execute_input": "2022-06-27T12:51:19.393131Z",
     "iopub.status.busy": "2022-06-27T12:51:19.392907Z",
     "iopub.status.idle": "2022-06-27T12:55:53.931413Z",
     "shell.execute_reply": "2022-06-27T12:55:53.930765Z",
     "shell.execute_reply.started": "2022-06-27T12:51:19.393107Z"
    }
   },
   "outputs": [
    {
     "data": {
      "application/vnd.jupyter.widget-view+json": {
       "model_id": "f4675c1810064c3bac5592ec0d209340",
       "version_major": 2,
       "version_minor": 0
      },
      "text/plain": [
       "VBox()"
      ]
     },
     "metadata": {},
     "output_type": "display_data"
    },
    {
     "data": {
      "application/vnd.jupyter.widget-view+json": {
       "model_id": "",
       "version_major": 2,
       "version_minor": 0
      },
      "text/plain": [
       "FloatProgress(value=0.0, bar_style='info', description='Progress:', layout=Layout(height='25px', width='50%'),…"
      ]
     },
     "metadata": {},
     "output_type": "display_data"
    },
    {
     "name": "stdout",
     "output_type": "stream",
     "text": [
      "The table df_immigration_personal is expectations of value 0.\n",
      "The table imm_address is expectations of value 0.\n",
      "The table imm_city_res_label is expectations of value 0.\n",
      "The table imm_destination_city is expectations of value 0.\n",
      "The table imm_travel_code is expectations of value 0.\n",
      "The table imm_visa is expectations of value 0.\n",
      "The table immigration_main_information is expectations of value 0.\n",
      "The table news_article_data is expectations of value 0.\n",
      "The table us_cities_demographics_data is expectations of value 0."
     ]
    }
   ],
   "source": [
    "data_quality_check_duplicated_IDs(dim_bucket_path, dict_dimension_table_IDs)"
   ]
  },
  {
   "cell_type": "code",
   "execution_count": 28,
   "id": "0806806b-dc54-4792-835c-b753c21b9a22",
   "metadata": {
    "execution": {
     "iopub.execute_input": "2022-06-27T13:11:39.292044Z",
     "iopub.status.busy": "2022-06-27T13:11:39.291806Z",
     "iopub.status.idle": "2022-06-27T13:11:39.359639Z",
     "shell.execute_reply": "2022-06-27T13:11:39.358973Z",
     "shell.execute_reply.started": "2022-06-27T13:11:39.292018Z"
    },
    "tags": []
   },
   "outputs": [
    {
     "data": {
      "application/vnd.jupyter.widget-view+json": {
       "model_id": "7f11ebefb06744bfba6c6adc3a62dda3",
       "version_major": 2,
       "version_minor": 0
      },
      "text/plain": [
       "VBox()"
      ]
     },
     "metadata": {},
     "output_type": "display_data"
    },
    {
     "data": {
      "application/vnd.jupyter.widget-view+json": {
       "model_id": "",
       "version_major": 2,
       "version_minor": 0
      },
      "text/plain": [
       "FloatProgress(value=0.0, bar_style='info', description='Progress:', layout=Layout(height='25px', width='50%'),…"
      ]
     },
     "metadata": {},
     "output_type": "display_data"
    }
   ],
   "source": [
    "# ***** Checking Source Data Count but figure out some filter condition to make sure it's correctly. *****\n",
    "def data_quality_check_source_data_count(dim_bucket_path: dim_bucket_path, dict_dimension_table_IDs: dict_dimension_table_IDs):\n",
    "    \"\"\"\n",
    "    Purpose:\n",
    "        Checking Source Data Count but figure out some filter condition to make sure it's correctly.\n",
    "\n",
    "    Args:\n",
    "        dim_bucket_path (s3path object): Get AWS S3 dimension table of destination bucket path\n",
    "\n",
    "    Raises:\n",
    "        Exception: If dimension table's not matched of source data count, it was raised expected for checking alert messages.\n",
    "    \"\"\"\n",
    "    for path in dim_bucket_path.iterdir():\n",
    "        if path.is_dir():\n",
    "            path = str(path)\n",
    "            for dim_table, key_duplicated_source_etl in dict_dimension_table_IDs.items():\n",
    "                dimension_table_name = path.split('/')[-1]\n",
    "                if dimension_table_name in dim_table:\n",
    "                    df = spark.read.parquet(f\"s3:/{path}\")\n",
    "                    if df.count() != key_duplicated_source_etl[2]:\n",
    "                        raise Exception(f\"Check table {dim_table} not matched expected source data count {key_duplicated_source_etl[2]}!!\")\n",
    "                    else:\n",
    "                        print(f\"The table {dim_table} is expectations of source data count {key_duplicated_source_etl[2]:,}.\")"
   ]
  },
  {
   "cell_type": "code",
   "execution_count": 29,
   "id": "65641194-8658-41e0-97fd-c320f630473b",
   "metadata": {
    "execution": {
     "iopub.execute_input": "2022-06-27T13:11:40.412473Z",
     "iopub.status.busy": "2022-06-27T13:11:40.412130Z",
     "iopub.status.idle": "2022-06-27T13:15:00.538056Z",
     "shell.execute_reply": "2022-06-27T13:15:00.537427Z",
     "shell.execute_reply.started": "2022-06-27T13:11:40.412430Z"
    },
    "tags": []
   },
   "outputs": [
    {
     "data": {
      "application/vnd.jupyter.widget-view+json": {
       "model_id": "1e58ce7844af4890a383a554a9475720",
       "version_major": 2,
       "version_minor": 0
      },
      "text/plain": [
       "VBox()"
      ]
     },
     "metadata": {},
     "output_type": "display_data"
    },
    {
     "data": {
      "application/vnd.jupyter.widget-view+json": {
       "model_id": "",
       "version_major": 2,
       "version_minor": 0
      },
      "text/plain": [
       "FloatProgress(value=0.0, bar_style='info', description='Progress:', layout=Layout(height='25px', width='50%'),…"
      ]
     },
     "metadata": {},
     "output_type": "display_data"
    },
    {
     "name": "stdout",
     "output_type": "stream",
     "text": [
      "The table df_immigration_personal is expectations of source data count 3,096,313.\n",
      "The table imm_address is expectations of source data count 55.\n",
      "The table imm_city_res_label is expectations of source data count 5.\n",
      "The table imm_destination_city is expectations of source data count 582.\n",
      "The table imm_travel_code is expectations of source data count 4.\n",
      "The table imm_visa is expectations of source data count 3.\n",
      "The table immigration_main_information is expectations of source data count 3,096,313.\n",
      "The table news_article_data is expectations of source data count 45,805.\n",
      "The table us_cities_demographics_data is expectations of source data count 2,891."
     ]
    }
   ],
   "source": [
    "data_quality_check_source_data_count(dim_bucket_path, dict_dimension_table_IDs)"
   ]
  }
 ],
 "metadata": {
  "kernelspec": {
   "display_name": "PySpark",
   "language": "python",
   "name": "pysparkkernel"
  },
  "language_info": {
   "codemirror_mode": {
    "name": "python",
    "version": 3
   },
   "file_extension": ".py",
   "mimetype": "text/x-python",
   "name": "pyspark",
   "pygments_lexer": "python3"
  }
 },
 "nbformat": 4,
 "nbformat_minor": 5
}
