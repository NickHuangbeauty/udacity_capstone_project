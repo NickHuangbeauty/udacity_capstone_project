{
 "cells": [
  {
   "cell_type": "code",
   "execution_count": 15,
   "id": "bf2c9687-39ef-4f90-af8f-1b2acd4de842",
   "metadata": {
    "execution": {
     "iopub.execute_input": "2022-06-27T15:10:35.077559Z",
     "iopub.status.busy": "2022-06-27T15:10:35.077290Z",
     "iopub.status.idle": "2022-06-27T15:10:35.166414Z",
     "shell.execute_reply": "2022-06-27T15:10:35.165610Z",
     "shell.execute_reply.started": "2022-06-27T15:10:35.077532Z"
    },
    "tags": []
   },
   "outputs": [
    {
     "data": {
      "application/vnd.jupyter.widget-view+json": {
       "model_id": "27ca951116e548c6b18272f3ce161b0a",
       "version_major": 2,
       "version_minor": 0
      },
      "text/plain": [
       "VBox()"
      ]
     },
     "metadata": {},
     "output_type": "display_data"
    },
    {
     "data": {
      "application/vnd.jupyter.widget-view+json": {
       "model_id": "",
       "version_major": 2,
       "version_minor": 0
      },
      "text/plain": [
       "FloatProgress(value=0.0, bar_style='info', description='Progress:', layout=Layout(height='25px', width='50%'),…"
      ]
     },
     "metadata": {},
     "output_type": "display_data"
    }
   ],
   "source": [
    "import configparser\n",
    "from datetime import datetime, timedelta\n",
    "import os\n",
    "from signal import signal, SIGPIPE, SIG_DFL\n",
    "from pyspark.sql import SparkSession\n",
    "from pyspark.sql.functions import udf, col, from_unixtime, monotonically_increasing_id, to_date\n",
    "from pyspark.sql.types import *\n",
    "from pyspark.sql.functions import year, month, dayofmonth, hour, weekofyear, date_format, count, when\n",
    "from s3path import S3Path"
   ]
  },
  {
   "cell_type": "code",
   "execution_count": 5,
   "id": "a80efab5-f5c7-4069-8d5b-227ce7ef92e2",
   "metadata": {
    "execution": {
     "iopub.execute_input": "2022-06-27T14:59:22.479224Z",
     "iopub.status.busy": "2022-06-27T14:59:22.478997Z",
     "iopub.status.idle": "2022-06-27T14:59:22.544836Z",
     "shell.execute_reply": "2022-06-27T14:59:22.544285Z",
     "shell.execute_reply.started": "2022-06-27T14:59:22.479199Z"
    }
   },
   "outputs": [
    {
     "data": {
      "application/vnd.jupyter.widget-view+json": {
       "model_id": "168e2b1336ea475781ef95fab2bf1dab",
       "version_major": 2,
       "version_minor": 0
      },
      "text/plain": [
       "VBox()"
      ]
     },
     "metadata": {},
     "output_type": "display_data"
    },
    {
     "data": {
      "application/vnd.jupyter.widget-view+json": {
       "model_id": "",
       "version_major": 2,
       "version_minor": 0
      },
      "text/plain": [
       "FloatProgress(value=0.0, bar_style='info', description='Progress:', layout=Layout(height='25px', width='50%'),…"
      ]
     },
     "metadata": {},
     "output_type": "display_data"
    }
   ],
   "source": [
    "def create_spark_session():\n",
    "    \"\"\"\n",
    "    Purpose:\n",
    "        Build an access spark session for dealing data ETL of Data Lake\n",
    "    :return: spark session\n",
    "    \"\"\"\n",
    "    spark = SparkSession \\\n",
    "        .builder \\\n",
    "        .config(\"spark.jars.packages\", \"org.apache.hadoop:hadoop-aws:2.7.0\") \\\n",
    "        .getOrCreate()\n",
    "    # .config(\"spark.hadoop.fs.s3a.impl\", \"org.apache.hadoop.fs.s3a.S3AFileSystem\") \\\n",
    "    # .config(\"spark.hadoop.fs.s3a.awsAccessKeyId\", os.environ['AWS_ACCESS_KEY_ID']) \\\n",
    "    # .config(\"spark.hadoop.fs.s3a.awsSecretAccessKey\", os.environ['AWS_SECRET_ACCESS_KEY'])\n",
    "\n",
    "    return spark"
   ]
  },
  {
   "cell_type": "code",
   "execution_count": 7,
   "id": "0eb58850-579a-4c7a-ae46-cfe11408073d",
   "metadata": {
    "execution": {
     "iopub.execute_input": "2022-06-27T14:59:42.018101Z",
     "iopub.status.busy": "2022-06-27T14:59:42.017874Z",
     "iopub.status.idle": "2022-06-27T14:59:42.814270Z",
     "shell.execute_reply": "2022-06-27T14:59:42.813690Z",
     "shell.execute_reply.started": "2022-06-27T14:59:42.018078Z"
    },
    "tags": []
   },
   "outputs": [
    {
     "data": {
      "application/vnd.jupyter.widget-view+json": {
       "model_id": "77f33f911a864a41a1976bfa1505072f",
       "version_major": 2,
       "version_minor": 0
      },
      "text/plain": [
       "VBox()"
      ]
     },
     "metadata": {},
     "output_type": "display_data"
    },
    {
     "data": {
      "application/vnd.jupyter.widget-view+json": {
       "model_id": "",
       "version_major": 2,
       "version_minor": 0
      },
      "text/plain": [
       "FloatProgress(value=0.0, bar_style='info', description='Progress:', layout=Layout(height='25px', width='50%'),…"
      ]
     },
     "metadata": {},
     "output_type": "display_data"
    }
   ],
   "source": [
    "spark = create_spark_session()"
   ]
  },
  {
   "cell_type": "code",
   "execution_count": 8,
   "id": "58fc31f1-4b14-4756-a152-e8dfc97436ee",
   "metadata": {
    "execution": {
     "iopub.execute_input": "2022-06-27T14:59:45.768649Z",
     "iopub.status.busy": "2022-06-27T14:59:45.768215Z",
     "iopub.status.idle": "2022-06-27T14:59:45.854188Z",
     "shell.execute_reply": "2022-06-27T14:59:45.853415Z",
     "shell.execute_reply.started": "2022-06-27T14:59:45.768614Z"
    }
   },
   "outputs": [
    {
     "data": {
      "application/vnd.jupyter.widget-view+json": {
       "model_id": "239a9c8a336548d8840ee6157f933f7d",
       "version_major": 2,
       "version_minor": 0
      },
      "text/plain": [
       "VBox()"
      ]
     },
     "metadata": {},
     "output_type": "display_data"
    },
    {
     "data": {
      "application/vnd.jupyter.widget-view+json": {
       "model_id": "",
       "version_major": 2,
       "version_minor": 0
      },
      "text/plain": [
       "FloatProgress(value=0.0, bar_style='info', description='Progress:', layout=Layout(height='25px', width='50%'),…"
      ]
     },
     "metadata": {},
     "output_type": "display_data"
    },
    {
     "name": "stdout",
     "output_type": "stream",
     "text": [
      "<pyspark.sql.session.SparkSession object at 0x7f80df6ed810>"
     ]
    }
   ],
   "source": [
    "spark"
   ]
  },
  {
   "cell_type": "code",
   "execution_count": 17,
   "id": "1f1b6b79-3efc-47e1-ae03-458855d83ce0",
   "metadata": {
    "execution": {
     "iopub.execute_input": "2022-06-27T15:17:17.868150Z",
     "iopub.status.busy": "2022-06-27T15:17:17.867925Z",
     "iopub.status.idle": "2022-06-27T15:17:17.923933Z",
     "shell.execute_reply": "2022-06-27T15:17:17.923212Z",
     "shell.execute_reply.started": "2022-06-27T15:17:17.868127Z"
    },
    "tags": []
   },
   "outputs": [
    {
     "data": {
      "application/vnd.jupyter.widget-view+json": {
       "model_id": "97f0f86338c9465aa6787e3109da1a4b",
       "version_major": 2,
       "version_minor": 0
      },
      "text/plain": [
       "VBox()"
      ]
     },
     "metadata": {},
     "output_type": "display_data"
    },
    {
     "data": {
      "application/vnd.jupyter.widget-view+json": {
       "model_id": "",
       "version_major": 2,
       "version_minor": 0
      },
      "text/plain": [
       "FloatProgress(value=0.0, bar_style='info', description='Progress:', layout=Layout(height='25px', width='50%'),…"
      ]
     },
     "metadata": {},
     "output_type": "display_data"
    }
   ],
   "source": [
    "dest_aws_s3_bucket = 'destetlbucket'\n",
    "\n",
    "dim_bucket_path = S3Path(f\"/{dest_aws_s3_bucket}/dimension_table\")\n",
    "fact_bucket_path = S3Path(f\"/{dest_aws_s3_bucket}/fact_table\")"
   ]
  },
  {
   "cell_type": "code",
   "execution_count": 16,
   "id": "482ca335-3f56-46a2-a006-c728f668a1ae",
   "metadata": {
    "execution": {
     "iopub.execute_input": "2022-06-27T15:10:38.498252Z",
     "iopub.status.busy": "2022-06-27T15:10:38.498035Z",
     "iopub.status.idle": "2022-06-27T15:13:18.363339Z",
     "shell.execute_reply": "2022-06-27T15:13:18.362635Z",
     "shell.execute_reply.started": "2022-06-27T15:10:38.498228Z"
    },
    "tags": []
   },
   "outputs": [
    {
     "data": {
      "application/vnd.jupyter.widget-view+json": {
       "model_id": "9c0cbeb5785b4b86ad5a70f56a540a77",
       "version_major": 2,
       "version_minor": 0
      },
      "text/plain": [
       "VBox()"
      ]
     },
     "metadata": {},
     "output_type": "display_data"
    },
    {
     "data": {
      "application/vnd.jupyter.widget-view+json": {
       "model_id": "",
       "version_major": 2,
       "version_minor": 0
      },
      "text/plain": [
       "FloatProgress(value=0.0, bar_style='info', description='Progress:', layout=Layout(height='25px', width='50%'),…"
      ]
     },
     "metadata": {},
     "output_type": "display_data"
    },
    {
     "name": "stdout",
     "output_type": "stream",
     "text": [
      "+-------------+-----------+--------------------+------------+--------------------+--------------------+--------------------+-----------------+-------------------+\n",
      "|news_cord_uid|news_source|          news_title|news_licence|       news_abstract|        news_authors|            news_url|news_publish_time| label_covid_for_ml|\n",
      "+-------------+-----------+--------------------+------------+--------------------+--------------------+--------------------+-----------------+-------------------+\n",
      "|     rni54i0i|   Elsevier|Chapter 33 Avian ...|   els-covid|Abstract Infectio...|Khataby, Khadija;...|https://doi.org/1...|       2020-12-31|Covid_News_Abstract|\n",
      "|     p8pns7r9|   Elsevier|Chapter 13 Biotec...|   els-covid|Abstract The appl...|Malik, Yashpal Si...|https://doi.org/1...|       2020-12-31|Covid_News_Abstract|\n",
      "|     gy8aata6|   Elsevier|Specificity in PD...|   els-covid|Abstract Globular...|Amacher, Jeanine ...|https://doi.org/1...|       2020-12-31|Covid_News_Abstract|\n",
      "|     sn7rswab|   Elsevier|Chapter 8 The Mid...|   els-covid|Abstract Middle E...|Khan, Gulfaraz; S...|https://doi.org/1...|       2020-12-31|Covid_News_Abstract|\n",
      "|     u592mbw6|   Elsevier|Chapter 18 Use of...|   els-covid|Abstract Infectio...|Agrebi, Said; Lar...|https://doi.org/1...|       2020-12-31|Covid_News_Abstract|\n",
      "|     96jqjs64|   Elsevier|Chapter 15 Analys...|   els-covid|Abstract Alkaloid...|Dey, Prasanta; Ku...|https://doi.org/1...|       2020-12-31|Covid_News_Abstract|\n",
      "|     o1i7t6o3|   Elsevier|Chapter 16 Dengue...|   els-covid|Abstract Dengue v...|Murugesan, Amudha...|https://doi.org/1...|       2020-12-31|Covid_News_Abstract|\n",
      "|     f3g3ek5u|   Elsevier|Chapter 3 Viral E...|   els-covid|Abstract The emer...|Rodríguez, Virgin...|https://doi.org/1...|       2020-12-31|Covid_News_Abstract|\n",
      "|     b5th4qfq|   Elsevier|Chapter 19 Diseas...|   els-covid|Abstract This cha...|Pal, Aruna; Chakr...|https://doi.org/1...|       2020-12-31|Covid_News_Abstract|\n",
      "|     mrzgvf8f|   Elsevier|Chapter 10 Bioaug...|   els-covid|Abstract Bioaugme...|Singh, Manoj Kuma...|https://doi.org/1...|       2020-12-31|Covid_News_Abstract|\n",
      "|     r5va3y1n|   Elsevier|Chapter 48 Mucosa...|   els-covid|Abstract Because ...|Wilson, Heather L...|https://doi.org/1...|       2020-12-31|Covid_News_Abstract|\n",
      "|     8wvclg4o|   Elsevier|Chapter 4 Current...|   els-covid|Abstract Human po...|Ibrahim, Muhammad...|https://doi.org/1...|       2020-12-31|Covid_News_Abstract|\n",
      "|     1db5qvi0|   Elsevier|Chapter 11 Baculo...|   els-covid|Abstract Baculovi...|Fabre, M. Laura; ...|https://doi.org/1...|       2020-12-31|Covid_News_Abstract|\n",
      "|     0604jed8|   Elsevier|Chapter 4 Human V...|   els-covid|Abstract Many new...|Sudhan, Shashi S....|https://doi.org/1...|       2020-12-31|Covid_News_Abstract|\n",
      "|     76qdrq98|   Elsevier|Chapter 16 Passiv...|   els-covid|Abstract Passive ...|Pelletier, J. Pet...|https://doi.org/1...|       2020-12-31|Covid_News_Abstract|\n",
      "|     l7dehit8|   Elsevier|Chapter 7 Nanopar...|   els-covid|Abstract Infectio...|Diaz-Arévalo, Dia...|https://doi.org/1...|       2020-12-31|Covid_News_Abstract|\n",
      "|     mog52dn8|   Elsevier|Chapter 19 Advanc...|   els-covid|Abstract The late...|Tomar, Shailly; M...|https://doi.org/1...|       2020-12-31|Covid_News_Abstract|\n",
      "|     ebhh3jb4|   Elsevier|Chapter 6 Involve...|   els-covid|Abstract The stud...|Lamsisi, Maryame;...|https://doi.org/1...|       2020-12-31|Covid_News_Abstract|\n",
      "|     0pq59s73|   Elsevier|Chapter 6 Ecoepid...|   els-covid|Abstract Within t...|Guzmán, Camilo; C...|https://doi.org/1...|       2020-12-31|Covid_News_Abstract|\n",
      "|     d1w4rbze|   Elsevier|8 Epidemic modeli...|   els-covid|Abstract In this ...|Di Giamberardino,...|https://doi.org/1...|       2020-12-31|Covid_News_Abstract|\n",
      "+-------------+-----------+--------------------+------------+--------------------+--------------------+--------------------+-----------------+-------------------+\n",
      "only showing top 20 rows"
     ]
    }
   ],
   "source": [
    "# Purpose: 1. Training Data: Depending on this aim, users could query the news table for machine learning before customers received news articles.\n",
    "\n",
    "# 1. Filter news articles title and abstract\n",
    "# 2. Label news title and abstract related articles that were matched covid word for user to split news_abstract words and language detect.\n",
    "\n",
    "for path in dim_bucket_path.iterdir():\n",
    "    path = str(path)\n",
    "    if path.split(\"/\")[-1] == 'news_article_data':\n",
    "        df = spark.read.parquet(f\"s3:/{path}\")\n",
    "        df.withColumn(\"label_covid_for_ml\", when( (df.news_title.rlike(\"covid\")) | (df.news_abstract.isNull()), \"Covid_News_Abstract_Null\")\\\n",
    "                   .when((df.news_title.rlike(\"covid\")) | (df.news_abstract.isNotNull()), \"Covid_News_Abstract\")\n",
    "                                        .otherwise(\"Other News\")).filter(col('news_publish_time').isNotNull()).sort(col('news_publish_time').desc()).show()\n",
    "    "
   ]
  },
  {
   "cell_type": "code",
   "execution_count": 47,
   "id": "347cdac5-52ed-4e0e-94ae-9d568afe5d55",
   "metadata": {
    "execution": {
     "iopub.execute_input": "2022-06-27T16:03:36.958164Z",
     "iopub.status.busy": "2022-06-27T16:03:36.957920Z",
     "iopub.status.idle": "2022-06-27T16:03:38.232967Z",
     "shell.execute_reply": "2022-06-27T16:03:38.232347Z",
     "shell.execute_reply.started": "2022-06-27T16:03:36.958128Z"
    },
    "tags": []
   },
   "outputs": [
    {
     "data": {
      "application/vnd.jupyter.widget-view+json": {
       "model_id": "797a2dc2bdcd4b3aba9ecdc71a0849c7",
       "version_major": 2,
       "version_minor": 0
      },
      "text/plain": [
       "VBox()"
      ]
     },
     "metadata": {},
     "output_type": "display_data"
    },
    {
     "data": {
      "application/vnd.jupyter.widget-view+json": {
       "model_id": "",
       "version_major": 2,
       "version_minor": 0
      },
      "text/plain": [
       "FloatProgress(value=0.0, bar_style='info', description='Progress:', layout=Layout(height='25px', width='50%'),…"
      ]
     },
     "metadata": {},
     "output_type": "display_data"
    }
   ],
   "source": [
    "# Purpose: 2. People's behavior and pandemic spread by people's traffic tools: With this aim, users could join dimension tables like imm_address, and imm_travel to gain more information about the pandemic spread with people's behavior.\n",
    "\n",
    "for path in dim_bucket_path.iterdir():\n",
    "    path = str(path)\n",
    "    if path.split(\"/\")[-1] == 'imm_address':\n",
    "        df_imm_address = spark.read.parquet(f\"s3:/{path}\")\n",
    "    if path.split(\"/\")[-1] == 'imm_travel_code':\n",
    "        df_imm_travel_code = spark.read.parquet(f\"s3:/{path}\")\n"
   ]
  },
  {
   "cell_type": "code",
   "execution_count": 34,
   "id": "76923479-27a8-43a7-914d-427a507827ac",
   "metadata": {
    "execution": {
     "iopub.execute_input": "2022-06-27T15:48:40.986447Z",
     "iopub.status.busy": "2022-06-27T15:48:40.986225Z",
     "iopub.status.idle": "2022-06-27T15:48:48.282840Z",
     "shell.execute_reply": "2022-06-27T15:48:48.282214Z",
     "shell.execute_reply.started": "2022-06-27T15:48:40.986424Z"
    },
    "tags": []
   },
   "outputs": [
    {
     "data": {
      "application/vnd.jupyter.widget-view+json": {
       "model_id": "c5948667a36c4d2e80dc0c26045b03ca",
       "version_major": 2,
       "version_minor": 0
      },
      "text/plain": [
       "VBox()"
      ]
     },
     "metadata": {},
     "output_type": "display_data"
    },
    {
     "data": {
      "application/vnd.jupyter.widget-view+json": {
       "model_id": "",
       "version_major": 2,
       "version_minor": 0
      },
      "text/plain": [
       "FloatProgress(value=0.0, bar_style='info', description='Progress:', layout=Layout(height='25px', width='50%'),…"
      ]
     },
     "metadata": {},
     "output_type": "display_data"
    }
   ],
   "source": [
    "for path in fact_bucket_path.iterdir():\n",
    "    path = str(path)\n",
    "    if path.split(\"/\")[-1] == 'notification':\n",
    "        df_notification = spark.read.parquet(f\"s3:/{path}\")"
   ]
  },
  {
   "cell_type": "code",
   "execution_count": 45,
   "id": "ec9513fd-fb91-4040-97b9-6004fa7b1c33",
   "metadata": {
    "execution": {
     "iopub.execute_input": "2022-06-27T16:00:02.897209Z",
     "iopub.status.busy": "2022-06-27T16:00:02.896977Z",
     "iopub.status.idle": "2022-06-27T16:00:02.961767Z",
     "shell.execute_reply": "2022-06-27T16:00:02.961034Z",
     "shell.execute_reply.started": "2022-06-27T16:00:02.897184Z"
    },
    "tags": []
   },
   "outputs": [
    {
     "data": {
      "application/vnd.jupyter.widget-view+json": {
       "model_id": "741baa34373845a0abec850b61237071",
       "version_major": 2,
       "version_minor": 0
      },
      "text/plain": [
       "VBox()"
      ]
     },
     "metadata": {},
     "output_type": "display_data"
    },
    {
     "data": {
      "application/vnd.jupyter.widget-view+json": {
       "model_id": "",
       "version_major": 2,
       "version_minor": 0
      },
      "text/plain": [
       "FloatProgress(value=0.0, bar_style='info', description='Progress:', layout=Layout(height='25px', width='50%'),…"
      ]
     },
     "metadata": {},
     "output_type": "display_data"
    }
   ],
   "source": [
    "\n",
    "df_pandemic_spread = df_notification.join(df_imm_address).where(df_notification['value_of_alias_imm_destination_city'] == df_imm_address['code_of_imm_address'])\\\n",
    "                                    .join(df_imm_travel_code).where(df_notification['imm_model'] == df_imm_travel_code['code_of_imm_travel_code'])\n",
    "            "
   ]
  },
  {
   "cell_type": "code",
   "execution_count": 49,
   "id": "67b90bff-e901-4ff2-aa83-de7036f3eec0",
   "metadata": {
    "execution": {
     "iopub.execute_input": "2022-06-27T16:05:32.506188Z",
     "iopub.status.busy": "2022-06-27T16:05:32.505956Z",
     "iopub.status.idle": "2022-06-27T16:05:39.820993Z",
     "shell.execute_reply": "2022-06-27T16:05:39.820352Z",
     "shell.execute_reply.started": "2022-06-27T16:05:32.506164Z"
    },
    "tags": []
   },
   "outputs": [
    {
     "data": {
      "application/vnd.jupyter.widget-view+json": {
       "model_id": "0e490c6e2b3e4528a8e2137e23bab875",
       "version_major": 2,
       "version_minor": 0
      },
      "text/plain": [
       "VBox()"
      ]
     },
     "metadata": {},
     "output_type": "display_data"
    },
    {
     "data": {
      "application/vnd.jupyter.widget-view+json": {
       "model_id": "",
       "version_major": 2,
       "version_minor": 0
      },
      "text/plain": [
       "FloatProgress(value=0.0, bar_style='info', description='Progress:', layout=Layout(height='25px', width='50%'),…"
      ]
     },
     "metadata": {},
     "output_type": "display_data"
    },
    {
     "name": "stdout",
     "output_type": "stream",
     "text": [
      "+-----------------+--------+---------+------------------------+--------------------+\n",
      "|news_publish_time|imm_year|imm_month|value_of_imm_travel_code|value_of_imm_address|\n",
      "+-----------------+--------+---------+------------------------+--------------------+\n",
      "|       2016-04-01|    2016|        4|                     Sea|             ARIZONA|\n",
      "|       2016-04-02|    2016|        4|                    Land|           MINNESOTA|\n",
      "|       2016-04-02|    2016|        4|                    Land|             ARIZONA|\n",
      "|       2016-04-02|    2016|        4|                     Sea|               TEXAS|\n",
      "|       2016-04-02|    2016|        4|                     Air|          NEW JERSEY|\n",
      "|       2016-04-01|    2016|        4|            Not reported|          WASHINGTON|\n",
      "|       2016-04-02|    2016|        4|                     Sea|            COLORADO|\n",
      "|       2016-04-02|    2016|        4|                    Land|             FLORIDA|\n",
      "|       2016-04-02|    2016|        4|            Not reported|            MICHIGAN|\n",
      "|       2016-04-02|    2016|        4|            Not reported|           MINNESOTA|\n",
      "|       2016-04-01|    2016|        4|                     Air|          NEW JERSEY|\n",
      "|       2016-04-01|    2016|        4|            Not reported|          CALIFORNIA|\n",
      "|       2016-04-02|    2016|        4|                    Land|               IDAHO|\n",
      "|       2016-04-02|    2016|        4|                     Sea|         S. CAROLINA|\n",
      "|       2016-04-02|    2016|        4|                    Land|           TENNESSEE|\n",
      "|       2016-04-01|    2016|        4|                     Air|           LOUISIANA|\n",
      "|       2016-04-01|    2016|        4|                     Sea|            MICHIGAN|\n",
      "|       2016-04-02|    2016|        4|                     Air|          CALIFORNIA|\n",
      "|       2016-04-02|    2016|        4|            Not reported|             GEORGIA|\n",
      "|       2016-04-01|    2016|        4|                     Air|         N. CAROLINA|\n",
      "+-----------------+--------+---------+------------------------+--------------------+\n",
      "only showing top 20 rows"
     ]
    }
   ],
   "source": [
    "df_pandemic_spread.select(col('news_publish_time'), col('imm_year'), col('imm_month'), col('value_of_imm_travel_code'), col('value_of_imm_address')).distinct().show()"
   ]
  }
 ],
 "metadata": {
  "kernelspec": {
   "display_name": "Python 3.7.13 ('nick_udacity_capstone_project')",
   "language": "python",
   "name": "python3"
  },
  "language_info": {
   "codemirror_mode": {
    "name": "python",
    "version": 3
   },
   "file_extension": ".py",
   "mimetype": "text/x-python",
   "name": "python",
   "pygments_lexer": "python3",
   "version": "3.7.13"
  },
  "vscode": {
   "interpreter": {
    "hash": "f40c152a15a669d798eb1ad4e6f345bdd77350f6745bfc8751a72382d50440f0"
   }
  }
 },
 "nbformat": 4,
 "nbformat_minor": 5
}
