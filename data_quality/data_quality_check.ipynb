{
 "cells": [
  {
   "cell_type": "code",
   "execution_count": 33,
   "id": "6e0a24a0-85be-4e81-90c7-a581d71758ff",
   "metadata": {
    "execution": {
     "iopub.execute_input": "2022-06-25T09:03:28.693927Z",
     "iopub.status.busy": "2022-06-25T09:03:28.693566Z",
     "iopub.status.idle": "2022-06-25T09:03:28.768134Z",
     "shell.execute_reply": "2022-06-25T09:03:28.767416Z",
     "shell.execute_reply.started": "2022-06-25T09:03:28.693887Z"
    },
    "tags": []
   },
   "outputs": [
    {
     "data": {
      "application/vnd.jupyter.widget-view+json": {
       "model_id": "3364221a124f4b29bdb4b0240638f6da",
       "version_major": 2,
       "version_minor": 0
      },
      "text/plain": [
       "VBox()"
      ]
     },
     "metadata": {},
     "output_type": "display_data"
    },
    {
     "data": {
      "application/vnd.jupyter.widget-view+json": {
       "model_id": "",
       "version_major": 2,
       "version_minor": 0
      },
      "text/plain": [
       "FloatProgress(value=0.0, bar_style='info', description='Progress:', layout=Layout(height='25px', width='50%'),…"
      ]
     },
     "metadata": {},
     "output_type": "display_data"
    }
   ],
   "source": [
    "import configparser\n",
    "from datetime import datetime, timedelta\n",
    "import os\n",
    "from signal import signal, SIGPIPE, SIG_DFL\n",
    "from pyspark.sql import SparkSession\n",
    "from pyspark.sql.functions import udf, col, from_unixtime, monotonically_increasing_id, to_date\n",
    "from pyspark.sql.types import *\n",
    "from pyspark.sql.functions import year, month, dayofmonth, hour, weekofyear, date_format"
   ]
  },
  {
   "cell_type": "code",
   "execution_count": 3,
   "id": "9818ba64-9c7b-46cf-ade3-063c3b2c92f0",
   "metadata": {
    "execution": {
     "iopub.execute_input": "2022-06-25T08:06:50.561497Z",
     "iopub.status.busy": "2022-06-25T08:06:50.561256Z",
     "iopub.status.idle": "2022-06-25T08:06:50.624679Z",
     "shell.execute_reply": "2022-06-25T08:06:50.624071Z",
     "shell.execute_reply.started": "2022-06-25T08:06:50.561472Z"
    },
    "tags": []
   },
   "outputs": [
    {
     "data": {
      "application/vnd.jupyter.widget-view+json": {
       "model_id": "454cb20558f441848f12842cd9ab042a",
       "version_major": 2,
       "version_minor": 0
      },
      "text/plain": [
       "VBox()"
      ]
     },
     "metadata": {},
     "output_type": "display_data"
    },
    {
     "data": {
      "application/vnd.jupyter.widget-view+json": {
       "model_id": "",
       "version_major": 2,
       "version_minor": 0
      },
      "text/plain": [
       "FloatProgress(value=0.0, bar_style='info', description='Progress:', layout=Layout(height='25px', width='50%'),…"
      ]
     },
     "metadata": {},
     "output_type": "display_data"
    }
   ],
   "source": [
    "def create_spark_session():\n",
    "    \"\"\"\n",
    "    Purpose:\n",
    "        Build an access spark session for dealing data ETL of Data Lake\n",
    "    :return: spark session\n",
    "    \"\"\"\n",
    "    spark = SparkSession \\\n",
    "        .builder \\\n",
    "        .config(\"spark.jars.packages\", \"org.apache.hadoop:hadoop-aws:2.7.0\") \\\n",
    "        .getOrCreate()\n",
    "    # .config(\"spark.hadoop.fs.s3a.impl\", \"org.apache.hadoop.fs.s3a.S3AFileSystem\") \\\n",
    "    # .config(\"spark.hadoop.fs.s3a.awsAccessKeyId\", os.environ['AWS_ACCESS_KEY_ID']) \\\n",
    "    # .config(\"spark.hadoop.fs.s3a.awsSecretAccessKey\", os.environ['AWS_SECRET_ACCESS_KEY'])\n",
    "\n",
    "    return spark"
   ]
  },
  {
   "cell_type": "code",
   "execution_count": 4,
   "id": "d22c0243-c820-4b2d-b53b-d06761c53850",
   "metadata": {
    "execution": {
     "iopub.execute_input": "2022-06-25T08:06:53.702137Z",
     "iopub.status.busy": "2022-06-25T08:06:53.701819Z",
     "iopub.status.idle": "2022-06-25T08:06:55.044340Z",
     "shell.execute_reply": "2022-06-25T08:06:55.043699Z",
     "shell.execute_reply.started": "2022-06-25T08:06:53.702103Z"
    },
    "tags": []
   },
   "outputs": [
    {
     "data": {
      "application/vnd.jupyter.widget-view+json": {
       "model_id": "523b6701a11743b796b92395499de093",
       "version_major": 2,
       "version_minor": 0
      },
      "text/plain": [
       "VBox()"
      ]
     },
     "metadata": {},
     "output_type": "display_data"
    },
    {
     "data": {
      "application/vnd.jupyter.widget-view+json": {
       "model_id": "",
       "version_major": 2,
       "version_minor": 0
      },
      "text/plain": [
       "FloatProgress(value=0.0, bar_style='info', description='Progress:', layout=Layout(height='25px', width='50%'),…"
      ]
     },
     "metadata": {},
     "output_type": "display_data"
    }
   ],
   "source": [
    "spark = create_spark_session()"
   ]
  },
  {
   "cell_type": "code",
   "execution_count": 5,
   "id": "261843a0-eaab-4f26-ad8a-7bcd1ed80cde",
   "metadata": {
    "execution": {
     "iopub.execute_input": "2022-06-25T08:06:57.348913Z",
     "iopub.status.busy": "2022-06-25T08:06:57.348664Z",
     "iopub.status.idle": "2022-06-25T08:06:57.406894Z",
     "shell.execute_reply": "2022-06-25T08:06:57.406162Z",
     "shell.execute_reply.started": "2022-06-25T08:06:57.348885Z"
    },
    "tags": []
   },
   "outputs": [
    {
     "data": {
      "application/vnd.jupyter.widget-view+json": {
       "model_id": "86d5fb9fed9e41b4a2179e47bb18f584",
       "version_major": 2,
       "version_minor": 0
      },
      "text/plain": [
       "VBox()"
      ]
     },
     "metadata": {},
     "output_type": "display_data"
    },
    {
     "data": {
      "application/vnd.jupyter.widget-view+json": {
       "model_id": "",
       "version_major": 2,
       "version_minor": 0
      },
      "text/plain": [
       "FloatProgress(value=0.0, bar_style='info', description='Progress:', layout=Layout(height='25px', width='50%'),…"
      ]
     },
     "metadata": {},
     "output_type": "display_data"
    },
    {
     "name": "stdout",
     "output_type": "stream",
     "text": [
      "<pyspark.sql.session.SparkSession object at 0x7f5b514b0750>"
     ]
    }
   ],
   "source": [
    "spark"
   ]
  },
  {
   "cell_type": "markdown",
   "id": "f0b2494b-755e-45f8-be46-a8e9a93399be",
   "metadata": {},
   "source": [
    "# Check data quality:\n",
    "1. Each dimensional table data schema matches data model\n",
    "2. There are no empty data\n",
    "3. Source/ count checks to ensure completeness (It's totally matched with ETL processed data.)"
   ]
  },
  {
   "cell_type": "code",
   "execution_count": 23,
   "id": "b30110a2-d599-422c-bea3-6de007299873",
   "metadata": {
    "execution": {
     "iopub.execute_input": "2022-06-25T08:22:59.810698Z",
     "iopub.status.busy": "2022-06-25T08:22:59.810471Z",
     "iopub.status.idle": "2022-06-25T08:22:59.869722Z",
     "shell.execute_reply": "2022-06-25T08:22:59.868789Z",
     "shell.execute_reply.started": "2022-06-25T08:22:59.810674Z"
    },
    "tags": []
   },
   "outputs": [
    {
     "data": {
      "application/vnd.jupyter.widget-view+json": {
       "model_id": "abc569e5f9d640408b5e23d49daa6f5c",
       "version_major": 2,
       "version_minor": 0
      },
      "text/plain": [
       "VBox()"
      ]
     },
     "metadata": {},
     "output_type": "display_data"
    },
    {
     "data": {
      "application/vnd.jupyter.widget-view+json": {
       "model_id": "",
       "version_major": 2,
       "version_minor": 0
      },
      "text/plain": [
       "FloatProgress(value=0.0, bar_style='info', description='Progress:', layout=Layout(height='25px', width='50%'),…"
      ]
     },
     "metadata": {},
     "output_type": "display_data"
    }
   ],
   "source": [
    "# Dest AWS S3 Bucket\n",
    "dest_aws_s3_bucket = 'destetlbucket'\n",
    "\n",
    "source_aws_s3_bucket = \"mydatapool/data/\"\n",
    "\n",
    "# Immigration data after ETL processed and resaved in AWS S3\n",
    "# Expection Count\n",
    "imm_personal = '3,096,313'\n",
    "imm_main = '3,096,313'\n",
    "\n",
    "# Mapping Table\n",
    "# Expection Count\n",
    "imm_addr = 55\n",
    "imm_visa = 3\n",
    "imm_mode = 4\n",
    "imm_port = 596\n",
    "imm_cit_res = 7\n",
    "\n",
    "# News Article after ETL processed and resaved in AWS S3\n",
    "# Expection Count\n",
    "news = '45,827'\n",
    "\n",
    "# Us Cities Demographics after ETL processed and resaved in AWS S3\n",
    "# Expection Count\n",
    "Us_city_demo = '2,891'\n",
    "\n",
    "\n",
    "dim_bucket_path = S3Path(f\"/{dest_aws_s3_bucket}/dimension_table\")\n"
   ]
  },
  {
   "cell_type": "code",
   "execution_count": 32,
   "id": "cc317062-1552-4736-9e7d-ca68ff004a53",
   "metadata": {
    "execution": {
     "iopub.execute_input": "2022-06-25T08:44:27.083183Z",
     "iopub.status.busy": "2022-06-25T08:44:27.082931Z",
     "iopub.status.idle": "2022-06-25T08:50:37.738298Z",
     "shell.execute_reply": "2022-06-25T08:50:37.737420Z",
     "shell.execute_reply.started": "2022-06-25T08:44:27.083156Z"
    },
    "tags": []
   },
   "outputs": [
    {
     "data": {
      "application/vnd.jupyter.widget-view+json": {
       "model_id": "0c722655158a4bdc8a0d822cbaab2150",
       "version_major": 2,
       "version_minor": 0
      },
      "text/plain": [
       "VBox()"
      ]
     },
     "metadata": {},
     "output_type": "display_data"
    },
    {
     "data": {
      "application/vnd.jupyter.widget-view+json": {
       "model_id": "",
       "version_major": 2,
       "version_minor": 0
      },
      "text/plain": [
       "FloatProgress(value=0.0, bar_style='info', description='Progress:', layout=Layout(height='25px', width='50%'),…"
      ]
     },
     "metadata": {},
     "output_type": "display_data"
    },
    {
     "name": "stdout",
     "output_type": "stream",
     "text": [
      "Table Name: df_immigration_personal, Total Rows: 3,096,313, Total Columns: 4\n",
      "root\n",
      " |-- imm_per_cic_id: string (nullable = true)\n",
      " |-- imm_person_gender: string (nullable = true)\n",
      " |-- imm_visatype: string (nullable = true)\n",
      " |-- imm_person_birth_year: integer (nullable = true)\n",
      "\n",
      "Table Name: imm_address, Total Rows: 55, Total Columns: 2\n",
      "root\n",
      " |-- code_of_imm_address: string (nullable = true)\n",
      " |-- value_of_imm_address: string (nullable = true)\n",
      "\n",
      "Table Name: imm_city_res_label, Total Rows: 7, Total Columns: 3\n",
      "root\n",
      " |-- col_of_imm_cntyl: integer (nullable = true)\n",
      " |-- value_of_imm_cntyl: string (nullable = true)\n",
      " |-- value_of_imm_cntyl_organizations: string (nullable = true)\n",
      "\n",
      "Table Name: imm_destination_city, Total Rows: 596, Total Columns: 3\n",
      "root\n",
      " |-- code_of_imm_destination_city: string (nullable = true)\n",
      " |-- value_of_imm_destination_city: string (nullable = true)\n",
      " |-- value_of_alias_imm_destination_city: string (nullable = true)\n",
      "\n",
      "Table Name: imm_travel_code, Total Rows: 4, Total Columns: 2\n",
      "root\n",
      " |-- code_of_imm_travel_code: integer (nullable = true)\n",
      " |-- value_of_imm_travel_code: string (nullable = true)\n",
      "\n",
      "Table Name: imm_visa, Total Rows: 3, Total Columns: 2\n",
      "root\n",
      " |-- code_of_imm_visa: integer (nullable = true)\n",
      " |-- value_of_imm_visa: string (nullable = true)\n",
      "\n",
      "Table Name: immigration_main_information, Total Rows: 3,096,313, Total Columns: 12\n",
      "root\n",
      " |-- imm_main_cic_id: integer (nullable = true)\n",
      " |-- imm_cntyl: integer (nullable = true)\n",
      " |-- imm_visa: integer (nullable = true)\n",
      " |-- imm_port: string (nullable = true)\n",
      " |-- imm_arrival_date: date (nullable = true)\n",
      " |-- imm_departure_date: date (nullable = true)\n",
      " |-- imm_model: integer (nullable = true)\n",
      " |-- imm_address: string (nullable = true)\n",
      " |-- imm_airline: string (nullable = true)\n",
      " |-- imm_flight_no: string (nullable = true)\n",
      " |-- imm_year: integer (nullable = true)\n",
      " |-- imm_month: integer (nullable = true)\n",
      "\n",
      "Table Name: news_article_data, Total Rows: 45,827, Total Columns: 8\n",
      "root\n",
      " |-- news_cord_uid: string (nullable = true)\n",
      " |-- news_source: string (nullable = true)\n",
      " |-- news_title: string (nullable = true)\n",
      " |-- news_licence: string (nullable = true)\n",
      " |-- news_abstract: string (nullable = true)\n",
      " |-- news_authors: string (nullable = true)\n",
      " |-- news_url: string (nullable = true)\n",
      " |-- news_publish_time: date (nullable = true)\n",
      "\n",
      "Table Name: us_cities_demographics_data, Total Rows: 2,891, Total Columns: 7\n",
      "root\n",
      " |-- cidemo_city: string (nullable = true)\n",
      " |-- cidemo_state: string (nullable = true)\n",
      " |-- cidemo_median_age: float (nullable = true)\n",
      " |-- cidemo_total_population: integer (nullable = true)\n",
      " |-- cidemo_state_code: string (nullable = true)\n",
      " |-- cidemo_count: integer (nullable = true)\n",
      " |-- cidemo_id: long (nullable = true)"
     ]
    }
   ],
   "source": [
    "for path in dim_bucket_path.iterdir():\n",
    "    if path.is_dir():\n",
    "        path = str(path)\n",
    "        df = spark.read.parquet(f\"s3:/{path}\")\n",
    "        if df.count() <= 0:\n",
    "            print(\"Table is empty\")\n",
    "        else:\n",
    "            print(f\"Table Name: {str(path).split('/')[-1]}, Total Rows: {df.count():,}, Total Columns: {len(df.dtypes)}\")\n",
    "            df.printSchema()"
   ]
  },
  {
   "cell_type": "code",
   "execution_count": null,
   "id": "8554e9ab-1be5-4da4-a13e-3c03cbe3fa6b",
   "metadata": {},
   "outputs": [],
   "source": []
  }
 ],
 "metadata": {
  "kernelspec": {
   "display_name": "Python 3.7.13 ('nick_udacity_capstone_project')",
   "language": "python",
   "name": "python3"
  },
  "language_info": {
   "codemirror_mode": {
    "name": "python",
    "version": 3
   },
   "file_extension": ".py",
   "mimetype": "text/x-python",
   "name": "python",
   "pygments_lexer": "python3",
   "version": "3.7.13"
  },
  "vscode": {
   "interpreter": {
    "hash": "f40c152a15a669d798eb1ad4e6f345bdd77350f6745bfc8751a72382d50440f0"
   }
  }
 },
 "nbformat": 4,
 "nbformat_minor": 5
}
